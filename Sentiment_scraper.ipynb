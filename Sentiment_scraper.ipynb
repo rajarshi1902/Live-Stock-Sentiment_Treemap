{
 "cells": [
  {
   "attachments": {},
   "cell_type": "markdown",
   "metadata": {},
   "source": [
    "The Scraper for Financial News and Sentiment Score "
   ]
  },
  {
   "cell_type": "code",
   "execution_count": 39,
   "metadata": {},
   "outputs": [],
   "source": [
    "from urllib.request import urlopen, Request\n",
    "from bs4 import BeautifulSoup\n",
    "import os\n",
    "import pandas as pd\n",
    "import matplotlib.pyplot as plt\n",
    "%matplotlib inline"
   ]
  },
  {
   "attachments": {},
   "cell_type": "markdown",
   "metadata": {},
   "source": [
    "Scraping "
   ]
  },
  {
   "cell_type": "code",
   "execution_count": 40,
   "metadata": {},
   "outputs": [],
   "source": [
    "#scrape data\n",
    "url_1 = \"https://finviz.com/quote.ashx?t=\"\n",
    "news_tables = {}\n",
    "# tickers = tickers_csv[\"Symbol\"].tolist() #add csv for tickers\n",
    "tickers = ['AMZN', 'TSLA', 'GOOG']\n",
    "for ticker in tickers:\n",
    "    url_2 = url_1 + ticker\n",
    "    req =  Request(url = url_2, headers = {'User-Agent': 'Mozilla/5.0 (Macintosh; Intel Mac OS X 10_15_7) AppleWebKit/605.1.15 (KHTML, like Gecko) Version/16.1 Safari/605.1.15'})\n",
    "    response = urlopen(req)\n",
    "    #extract into html\n",
    "    html = BeautifulSoup(response)\n",
    "    #find and load news_table\n",
    "    news_table = html.find(id = 'news-table')\n",
    "    #add table to dictionary\n",
    "    news_tables[ticker] = news_table"
   ]
  },
  {
   "cell_type": "code",
   "execution_count": 41,
   "metadata": {},
   "outputs": [
    {
     "name": "stdout",
     "output_type": "stream",
     "text": [
      "Amazon, Facing Questions Over Workplace Safety, Also Probed on Bank Dealings\n",
      "Jan-20-23 08:06PM\n",
      "Weekly Roundup\n",
      "06:35PM\n",
      "Amazon's Alexa Smart Speaker Blazed A Trail, Then Burned Out\n",
      "04:38PM\n",
      "Walmart Has a Unique Solution to Retail's Biggest Problem\n",
      "03:43PM\n",
      "Why Media-Streaming Stocks Stole the Show on Friday\n",
      "03:04PM\n",
      "Exclusive: How Amazon Fresh's 'zombie' store trend may hurt Orlando shopping centers\n",
      "02:03PM\n",
      "Amazon's AWS to invest $35 billion in Virginia\n",
      "12:51PM\n",
      "UPDATE 2-Amazon's AWS to invest $35 bln in Virginia\n",
      "12:44PM\n"
     ]
    }
   ],
   "source": [
    "amzn = news_tables['AMZN']\n",
    "amzn_tr = amzn.findAll('tr')\n",
    "\n",
    "for i, table_row in enumerate(amzn_tr):\n",
    " # Read the text of the element ‘a’ into ‘link_text’\n",
    " a_text = table_row.a.text\n",
    " # Read the text of the element ‘td’ into ‘data_text’\n",
    " td_text = table_row.td.text\n",
    " # Print the contents of ‘link_text’ and ‘data_text’ \n",
    " print(a_text)\n",
    " print(td_text)\n",
    " # Exit after printing 4 rows of data\n",
    " if i == 7:\n",
    "    break"
   ]
  },
  {
   "cell_type": "code",
   "execution_count": 42,
   "metadata": {},
   "outputs": [
    {
     "data": {
      "text/plain": [
       "[['AMZN',\n",
       "  'Jan-20-23',\n",
       "  '08:06PM',\n",
       "  'Amazon, Facing Questions Over Workplace Safety, Also Probed on Bank Dealings'],\n",
       " ['AMZN', 'Jan-20-23', '06:35PM', 'Weekly Roundup'],\n",
       " ['AMZN',\n",
       "  'Jan-20-23',\n",
       "  '04:38PM',\n",
       "  \"Amazon's Alexa Smart Speaker Blazed A Trail, Then Burned Out\"],\n",
       " ['AMZN',\n",
       "  'Jan-20-23',\n",
       "  '03:43PM',\n",
       "  \"Walmart Has a Unique Solution to Retail's Biggest Problem\"],\n",
       " ['AMZN',\n",
       "  'Jan-20-23',\n",
       "  '03:04PM',\n",
       "  'Why Media-Streaming Stocks Stole the Show on Friday']]"
      ]
     },
     "execution_count": 42,
     "metadata": {},
     "output_type": "execute_result"
    }
   ],
   "source": [
    "parsed_news = []\n",
    "#news iteration\n",
    "for file_name, news_table in news_tables.items():\n",
    "    #iterate through all tr tags\n",
    "    for x in news_table.findAll('tr'):\n",
    "        text = x.a.get_text() #read text from each a tag under tr tag\n",
    "        date_scrape = x.td.text.split()\n",
    "        if len(date_scrape) == 1:\n",
    "            time = date_scrape[0] #to make sure all news time for a given date is taken\n",
    "        else:\n",
    "            date = date_scrape[0]\n",
    "            time = date_scrape[1]\n",
    "        ticker = file_name.split('_')[0]\n",
    "        parsed_news.append([ticker, date, time, text])\n",
    "\n",
    "\n",
    "parsed_news[:5]\n"
   ]
  },
  {
   "cell_type": "code",
   "execution_count": 43,
   "metadata": {},
   "outputs": [
    {
     "data": {
      "text/html": [
       "<div>\n",
       "<style scoped>\n",
       "    .dataframe tbody tr th:only-of-type {\n",
       "        vertical-align: middle;\n",
       "    }\n",
       "\n",
       "    .dataframe tbody tr th {\n",
       "        vertical-align: top;\n",
       "    }\n",
       "\n",
       "    .dataframe thead th {\n",
       "        text-align: right;\n",
       "    }\n",
       "</style>\n",
       "<table border=\"1\" class=\"dataframe\">\n",
       "  <thead>\n",
       "    <tr style=\"text-align: right;\">\n",
       "      <th></th>\n",
       "      <th>ticker</th>\n",
       "      <th>date</th>\n",
       "      <th>time</th>\n",
       "      <th>headline</th>\n",
       "    </tr>\n",
       "  </thead>\n",
       "  <tbody>\n",
       "    <tr>\n",
       "      <th>0</th>\n",
       "      <td>AMZN</td>\n",
       "      <td>Jan-20-23</td>\n",
       "      <td>08:06PM</td>\n",
       "      <td>Amazon, Facing Questions Over Workplace Safety...</td>\n",
       "    </tr>\n",
       "    <tr>\n",
       "      <th>1</th>\n",
       "      <td>AMZN</td>\n",
       "      <td>Jan-20-23</td>\n",
       "      <td>06:35PM</td>\n",
       "      <td>Weekly Roundup</td>\n",
       "    </tr>\n",
       "    <tr>\n",
       "      <th>2</th>\n",
       "      <td>AMZN</td>\n",
       "      <td>Jan-20-23</td>\n",
       "      <td>04:38PM</td>\n",
       "      <td>Amazon's Alexa Smart Speaker Blazed A Trail, T...</td>\n",
       "    </tr>\n",
       "    <tr>\n",
       "      <th>3</th>\n",
       "      <td>AMZN</td>\n",
       "      <td>Jan-20-23</td>\n",
       "      <td>03:43PM</td>\n",
       "      <td>Walmart Has a Unique Solution to Retail's Bigg...</td>\n",
       "    </tr>\n",
       "    <tr>\n",
       "      <th>4</th>\n",
       "      <td>AMZN</td>\n",
       "      <td>Jan-20-23</td>\n",
       "      <td>03:04PM</td>\n",
       "      <td>Why Media-Streaming Stocks Stole the Show on F...</td>\n",
       "    </tr>\n",
       "    <tr>\n",
       "      <th>...</th>\n",
       "      <td>...</td>\n",
       "      <td>...</td>\n",
       "      <td>...</td>\n",
       "      <td>...</td>\n",
       "    </tr>\n",
       "    <tr>\n",
       "      <th>295</th>\n",
       "      <td>GOOG</td>\n",
       "      <td>Dec-15-22</td>\n",
       "      <td>04:14PM</td>\n",
       "      <td>Amazon goes TikTok. Here's how it will work.</td>\n",
       "    </tr>\n",
       "    <tr>\n",
       "      <th>296</th>\n",
       "      <td>GOOG</td>\n",
       "      <td>Dec-15-22</td>\n",
       "      <td>12:52PM</td>\n",
       "      <td>Google is not releasing its AI bot competitor ...</td>\n",
       "    </tr>\n",
       "    <tr>\n",
       "      <th>297</th>\n",
       "      <td>GOOG</td>\n",
       "      <td>Dec-15-22</td>\n",
       "      <td>12:05PM</td>\n",
       "      <td>Why Alphabet Stock Was Sliding Today</td>\n",
       "    </tr>\n",
       "    <tr>\n",
       "      <th>298</th>\n",
       "      <td>GOOG</td>\n",
       "      <td>Dec-15-22</td>\n",
       "      <td>10:06AM</td>\n",
       "      <td>ChatGPT owner OpenAI projects $1 billion in re...</td>\n",
       "    </tr>\n",
       "    <tr>\n",
       "      <th>299</th>\n",
       "      <td>GOOG</td>\n",
       "      <td>Dec-15-22</td>\n",
       "      <td>09:55AM</td>\n",
       "      <td>People are Googling bonds more than stocks now</td>\n",
       "    </tr>\n",
       "  </tbody>\n",
       "</table>\n",
       "<p>300 rows × 4 columns</p>\n",
       "</div>"
      ],
      "text/plain": [
       "    ticker       date     time  \\\n",
       "0     AMZN  Jan-20-23  08:06PM   \n",
       "1     AMZN  Jan-20-23  06:35PM   \n",
       "2     AMZN  Jan-20-23  04:38PM   \n",
       "3     AMZN  Jan-20-23  03:43PM   \n",
       "4     AMZN  Jan-20-23  03:04PM   \n",
       "..     ...        ...      ...   \n",
       "295   GOOG  Dec-15-22  04:14PM   \n",
       "296   GOOG  Dec-15-22  12:52PM   \n",
       "297   GOOG  Dec-15-22  12:05PM   \n",
       "298   GOOG  Dec-15-22  10:06AM   \n",
       "299   GOOG  Dec-15-22  09:55AM   \n",
       "\n",
       "                                              headline  \n",
       "0    Amazon, Facing Questions Over Workplace Safety...  \n",
       "1                                       Weekly Roundup  \n",
       "2    Amazon's Alexa Smart Speaker Blazed A Trail, T...  \n",
       "3    Walmart Has a Unique Solution to Retail's Bigg...  \n",
       "4    Why Media-Streaming Stocks Stole the Show on F...  \n",
       "..                                                 ...  \n",
       "295       Amazon goes TikTok. Here's how it will work.  \n",
       "296  Google is not releasing its AI bot competitor ...  \n",
       "297               Why Alphabet Stock Was Sliding Today  \n",
       "298  ChatGPT owner OpenAI projects $1 billion in re...  \n",
       "299     People are Googling bonds more than stocks now  \n",
       "\n",
       "[300 rows x 4 columns]"
      ]
     },
     "execution_count": 43,
     "metadata": {},
     "output_type": "execute_result"
    }
   ],
   "source": [
    "#converting into a DataFrame\n",
    "\n",
    "columns = ['ticker', 'date', 'time', 'headline']\n",
    "news_df = pd.DataFrame(parsed_news, columns=columns)\n",
    "news_df\n"
   ]
  },
  {
   "attachments": {},
   "cell_type": "markdown",
   "metadata": {},
   "source": [
    "Sentiment Analysis"
   ]
  },
  {
   "cell_type": "code",
   "execution_count": 44,
   "metadata": {},
   "outputs": [
    {
     "name": "stderr",
     "output_type": "stream",
     "text": [
      "[nltk_data] Downloading package vader_lexicon to\n",
      "[nltk_data]     /Users/rajarshibhattacharjee/nltk_data...\n",
      "[nltk_data]   Package vader_lexicon is already up-to-date!\n"
     ]
    }
   ],
   "source": [
    "import nltk\n",
    "nltk.downloader.download('vader_lexicon')\n",
    "from nltk.sentiment.vader import SentimentIntensityAnalyzer"
   ]
  },
  {
   "cell_type": "code",
   "execution_count": 45,
   "metadata": {},
   "outputs": [
    {
     "data": {
      "text/html": [
       "<div>\n",
       "<style scoped>\n",
       "    .dataframe tbody tr th:only-of-type {\n",
       "        vertical-align: middle;\n",
       "    }\n",
       "\n",
       "    .dataframe tbody tr th {\n",
       "        vertical-align: top;\n",
       "    }\n",
       "\n",
       "    .dataframe thead th {\n",
       "        text-align: right;\n",
       "    }\n",
       "</style>\n",
       "<table border=\"1\" class=\"dataframe\">\n",
       "  <thead>\n",
       "    <tr style=\"text-align: right;\">\n",
       "      <th></th>\n",
       "      <th>ticker</th>\n",
       "      <th>date</th>\n",
       "      <th>time</th>\n",
       "      <th>headline</th>\n",
       "      <th>neg</th>\n",
       "      <th>neu</th>\n",
       "      <th>pos</th>\n",
       "      <th>compound</th>\n",
       "    </tr>\n",
       "  </thead>\n",
       "  <tbody>\n",
       "    <tr>\n",
       "      <th>0</th>\n",
       "      <td>AMZN</td>\n",
       "      <td>2023-01-20</td>\n",
       "      <td>08:06PM</td>\n",
       "      <td>Amazon, Facing Questions Over Workplace Safety...</td>\n",
       "      <td>0.000</td>\n",
       "      <td>0.667</td>\n",
       "      <td>0.333</td>\n",
       "      <td>0.5423</td>\n",
       "    </tr>\n",
       "    <tr>\n",
       "      <th>1</th>\n",
       "      <td>AMZN</td>\n",
       "      <td>2023-01-20</td>\n",
       "      <td>06:35PM</td>\n",
       "      <td>Weekly Roundup</td>\n",
       "      <td>0.000</td>\n",
       "      <td>1.000</td>\n",
       "      <td>0.000</td>\n",
       "      <td>0.0000</td>\n",
       "    </tr>\n",
       "    <tr>\n",
       "      <th>2</th>\n",
       "      <td>AMZN</td>\n",
       "      <td>2023-01-20</td>\n",
       "      <td>04:38PM</td>\n",
       "      <td>Amazon's Alexa Smart Speaker Blazed A Trail, T...</td>\n",
       "      <td>0.000</td>\n",
       "      <td>0.748</td>\n",
       "      <td>0.252</td>\n",
       "      <td>0.4019</td>\n",
       "    </tr>\n",
       "    <tr>\n",
       "      <th>3</th>\n",
       "      <td>AMZN</td>\n",
       "      <td>2023-01-20</td>\n",
       "      <td>03:43PM</td>\n",
       "      <td>Walmart Has a Unique Solution to Retail's Bigg...</td>\n",
       "      <td>0.245</td>\n",
       "      <td>0.545</td>\n",
       "      <td>0.209</td>\n",
       "      <td>-0.1027</td>\n",
       "    </tr>\n",
       "    <tr>\n",
       "      <th>4</th>\n",
       "      <td>AMZN</td>\n",
       "      <td>2023-01-20</td>\n",
       "      <td>03:04PM</td>\n",
       "      <td>Why Media-Streaming Stocks Stole the Show on F...</td>\n",
       "      <td>0.000</td>\n",
       "      <td>1.000</td>\n",
       "      <td>0.000</td>\n",
       "      <td>0.0000</td>\n",
       "    </tr>\n",
       "  </tbody>\n",
       "</table>\n",
       "</div>"
      ],
      "text/plain": [
       "  ticker        date     time  \\\n",
       "0   AMZN  2023-01-20  08:06PM   \n",
       "1   AMZN  2023-01-20  06:35PM   \n",
       "2   AMZN  2023-01-20  04:38PM   \n",
       "3   AMZN  2023-01-20  03:43PM   \n",
       "4   AMZN  2023-01-20  03:04PM   \n",
       "\n",
       "                                            headline    neg    neu    pos  \\\n",
       "0  Amazon, Facing Questions Over Workplace Safety...  0.000  0.667  0.333   \n",
       "1                                     Weekly Roundup  0.000  1.000  0.000   \n",
       "2  Amazon's Alexa Smart Speaker Blazed A Trail, T...  0.000  0.748  0.252   \n",
       "3  Walmart Has a Unique Solution to Retail's Bigg...  0.245  0.545  0.209   \n",
       "4  Why Media-Streaming Stocks Stole the Show on F...  0.000  1.000  0.000   \n",
       "\n",
       "   compound  \n",
       "0    0.5423  \n",
       "1    0.0000  \n",
       "2    0.4019  \n",
       "3   -0.1027  \n",
       "4    0.0000  "
      ]
     },
     "execution_count": 45,
     "metadata": {},
     "output_type": "execute_result"
    }
   ],
   "source": [
    "vader = SentimentIntensityAnalyzer()\n",
    "#to get polarity scores from the headlines\n",
    "scores = news_df['headline'].apply(vader.polarity_scores).tolist()\n",
    "scores_df = pd.DataFrame(scores)\n",
    "news_df = news_df.join(scores_df, rsuffix = '_right')\n",
    "news_df['date'] = pd.to_datetime(news_df.date).dt.date #to convert date column to datetime format\n",
    "\n",
    "news_df.head()"
   ]
  },
  {
   "cell_type": "code",
   "execution_count": 46,
   "metadata": {},
   "outputs": [
    {
     "name": "stderr",
     "output_type": "stream",
     "text": [
      "<ipython-input-46-d4a6672fddc9>:3: FutureWarning: The default value of numeric_only in DataFrameGroupBy.mean is deprecated. In a future version, numeric_only will default to False. Either specify numeric_only or select only columns which should be valid for the function.\n",
      "  mean_scores = news_df.groupby(['ticker', 'date']).mean()\n"
     ]
    },
    {
     "data": {
      "image/png": "[encoded data removed]",
      "text/plain": [
       "<Figure size 720x432 with 1 Axes>"
      ]
     },
     "metadata": {
      "needs_background": "light"
     },
     "output_type": "display_data"
    }
   ],
   "source": [
    "#basic plotting\n",
    "plt.rcParams['figure.figsize'] = [10, 6]\n",
    "mean_scores = news_df.groupby(['ticker', 'date']).mean()\n",
    "\n",
    "mean_scores = mean_scores.unstack() #unstacking the mean\n",
    "\n",
    "mean_scores = mean_scores.xs('compound', axis = \"columns\").transpose()\n",
    "\n",
    "mean_scores.plot(kind = 'bar')\n",
    "plt.grid()\n",
    "\n"
   ]
  },
  {
   "cell_type": "code",
   "execution_count": null,
   "metadata": {},
   "outputs": [],
   "source": []
  }
 ],
 "metadata": {
  "kernelspec": {
   "display_name": "base",
   "language": "python",
   "name": "python3"
  },
  "language_info": {
   "codemirror_mode": {
    "name": "ipython",
    "version": 3
   },
   "file_extension": ".py",
   "mimetype": "text/x-python",
   "name": "python",
   "nbconvert_exporter": "python",
   "pygments_lexer": "ipython3",
   "version": "3.8.8 (default, Apr 13 2021, 12:59:45) \n[Clang 10.0.0 ]"
  },
  "orig_nbformat": 4,
  "vscode": {
   "interpreter": {
    "hash": "74d4f517835f5391ecaa9b874603d33f8b07b3643e97ecae7701dd9640cfcedd"
   }
  }
 },
 "nbformat": 4,
 "nbformat_minor": 2
}
