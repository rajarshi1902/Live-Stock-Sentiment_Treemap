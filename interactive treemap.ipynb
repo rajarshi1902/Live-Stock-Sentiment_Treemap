{
 "cells": [
  {
   "attachments": {},
   "cell_type": "markdown",
   "metadata": {},
   "source": [
    "Stock Profile Heatmap based on Sentiment and Returns"
   ]
  },
  {
   "cell_type": "code",
   "execution_count": 59,
   "metadata": {},
   "outputs": [],
   "source": [
    "# libraries for webscraping, parsing and getting stock data\n",
    "from urllib.request import urlopen\n",
    "from urllib.request import Request\n",
    "from bs4 import BeautifulSoup\n",
    "import yfinance as yf\n",
    "import pandas as pd"
   ]
  },
  {
   "cell_type": "code",
   "execution_count": 60,
   "metadata": {},
   "outputs": [],
   "source": [
    "#ticker list for the project\n",
    "tickers_dict = {'AMZN': 5, 'TSLA': 1, 'GOOG': 3, 'META': 3, 'KO': 10, 'PEP': 5,  # amazon, tesla, google, meta, coke, pepsi\n",
    "                'BA': 5, 'XOM': 5, 'CVX': 4, 'UNH': 1, 'JNJ': 3, 'JPM': 3, # boeing, exxon mobil, chevron, united health, johnson&johnson, jp morgan\n",
    "                'BAC': 5, 'C': 5, 'SPG': 10, 'AAPL': 6, 'MSFT': 5, 'WMT': 6, # bank of america, citigroup, simon property group, apple, microsoft, walmart\n",
    "                'LMT': 2, 'PFE': 10, 'MMM': 3, 'CRWD': 3, 'WBD': 20, 'DIS': 8, # lockheed martin, pfizer, 3M, crowdstrike, warner bros, disney\n",
    "                'AIG': 5, 'BRK-B': 4, 'DDOG': 3, 'SLB': 16, 'SONY': 5, 'PLD': 5, # american international group, berkshire hathaway, datadog, schlumberger, sony, prologis\n",
    "                'INT': 16, 'AMD': 5, 'ISRG': 3, 'INTC': 5} # world fuel services, advanced micro devices, intuitive surgical, intel\n",
    "\n",
    "tickers = tickers_dict.keys()\n",
    "n_shares = tickers_dict.values()"
   ]
  },
  {
   "cell_type": "code",
   "execution_count": 61,
   "metadata": {},
   "outputs": [
    {
     "data": {
      "text/plain": [
       "[['AMZN',\n",
       "  'Jan-22-23',\n",
       "  '11:51AM',\n",
       "  \"1 Tech Stock You'll Be Glad You Bought When the Bull Market Starts\"],\n",
       " ['AMZN',\n",
       "  'Jan-22-23',\n",
       "  '10:30AM',\n",
       "  'Target, Amazon and 4 More Retailers That Will Reward You for Turning in Your Old Stuff'],\n",
       " ['AMZN',\n",
       "  'Jan-22-23',\n",
       "  '08:37AM',\n",
       "  'Got $2,500? 2 Top Stocks That You Can Buy and Hold for a Lifetime'],\n",
       " ['AMZN',\n",
       "  'Jan-22-23',\n",
       "  '08:00AM',\n",
       "  'Tech Layoffs Unwind Recent Head-Count Growth, Torpedo Long-Shot Projects'],\n",
       " ['AMZN',\n",
       "  'Jan-22-23',\n",
       "  '07:25AM',\n",
       "  \"My Top ETF to Buy for 2023 (and It's Not Even Close)\"]]"
      ]
     },
     "execution_count": 61,
     "metadata": {},
     "output_type": "execute_result"
    }
   ],
   "source": [
    "#this part is copied fromt the crawler notebook I made\n",
    "\n",
    "#scrape data\n",
    "url_1 = \"https://finviz.com/quote.ashx?t=\"\n",
    "news_tables = {}\n",
    "\n",
    "for ticker in tickers:\n",
    "    url_2 = url_1 + ticker\n",
    "    req =  Request(url = url_2, headers = {'User-Agent': 'Mozilla/5.0 (Macintosh; Intel Mac OS X 10_15_7) AppleWebKit/605.1.15 (KHTML, like Gecko) Version/16.1 Safari/605.1.15'})\n",
    "    response = urlopen(req)\n",
    "    #extract into html\n",
    "    html = BeautifulSoup(response)\n",
    "    #find and load news_table\n",
    "    news_table = html.find(id = 'news-table')\n",
    "    #add table to dictionary\n",
    "    news_tables[ticker] = news_table\n",
    "\n",
    "parsed_news = []\n",
    "#news iteration\n",
    "for file_name, news_table in news_tables.items():\n",
    "    #iterate through all tr tags\n",
    "    for x in news_table.findAll('tr'):\n",
    "        text = x.a.get_text() #read text from each a tag under tr tag\n",
    "        date_scrape = x.td.text.split()\n",
    "        if len(date_scrape) == 1:\n",
    "            time = date_scrape[0] #to make sure all news time for a given date is taken\n",
    "        else:\n",
    "            date = date_scrape[0]\n",
    "            time = date_scrape[1]\n",
    "        ticker = file_name.split('_')[0]\n",
    "        parsed_news.append([ticker, date, time, text])\n",
    "\n",
    "\n",
    "parsed_news[:5]"
   ]
  },
  {
   "cell_type": "code",
   "execution_count": 62,
   "metadata": {},
   "outputs": [
    {
     "name": "stderr",
     "output_type": "stream",
     "text": [
      "[nltk_data] Downloading package vader_lexicon to\n",
      "[nltk_data]     /Users/rajarshibhattacharjee/nltk_data...\n",
      "[nltk_data]   Package vader_lexicon is already up-to-date!\n"
     ]
    }
   ],
   "source": [
    "# NLTK VADER for sentiment analysis\n",
    "import nltk\n",
    "nltk.downloader.download('vader_lexicon')\n",
    "from nltk.sentiment.vader import SentimentIntensityAnalyzer"
   ]
  },
  {
   "cell_type": "code",
   "execution_count": 63,
   "metadata": {},
   "outputs": [
    {
     "data": {
      "text/html": [
       "<div>\n",
       "<style scoped>\n",
       "    .dataframe tbody tr th:only-of-type {\n",
       "        vertical-align: middle;\n",
       "    }\n",
       "\n",
       "    .dataframe tbody tr th {\n",
       "        vertical-align: top;\n",
       "    }\n",
       "\n",
       "    .dataframe thead th {\n",
       "        text-align: right;\n",
       "    }\n",
       "</style>\n",
       "<table border=\"1\" class=\"dataframe\">\n",
       "  <thead>\n",
       "    <tr style=\"text-align: right;\">\n",
       "      <th></th>\n",
       "      <th>ticker</th>\n",
       "      <th>date</th>\n",
       "      <th>time</th>\n",
       "      <th>headline</th>\n",
       "      <th>neg</th>\n",
       "      <th>neu</th>\n",
       "      <th>pos</th>\n",
       "      <th>compound</th>\n",
       "    </tr>\n",
       "  </thead>\n",
       "  <tbody>\n",
       "    <tr>\n",
       "      <th>3395</th>\n",
       "      <td>INTC</td>\n",
       "      <td>2023-01-08</td>\n",
       "      <td>07:30AM</td>\n",
       "      <td>Should You Buy the 3 Highest-Paying Dividend S...</td>\n",
       "      <td>0.0</td>\n",
       "      <td>1.000</td>\n",
       "      <td>0.000</td>\n",
       "      <td>0.0000</td>\n",
       "    </tr>\n",
       "    <tr>\n",
       "      <th>3396</th>\n",
       "      <td>INTC</td>\n",
       "      <td>2023-01-08</td>\n",
       "      <td>05:52AM</td>\n",
       "      <td>The Dogs of the Dow Worked Last Year, But This...</td>\n",
       "      <td>0.0</td>\n",
       "      <td>1.000</td>\n",
       "      <td>0.000</td>\n",
       "      <td>0.0000</td>\n",
       "    </tr>\n",
       "    <tr>\n",
       "      <th>3397</th>\n",
       "      <td>INTC</td>\n",
       "      <td>2023-01-06</td>\n",
       "      <td>07:15PM</td>\n",
       "      <td>Analyst Report: Intel Corporation</td>\n",
       "      <td>0.0</td>\n",
       "      <td>1.000</td>\n",
       "      <td>0.000</td>\n",
       "      <td>0.0000</td>\n",
       "    </tr>\n",
       "    <tr>\n",
       "      <th>3398</th>\n",
       "      <td>INTC</td>\n",
       "      <td>2023-01-06</td>\n",
       "      <td>08:58AM</td>\n",
       "      <td>The Smartest Dividend Stocks to Buy With $400 ...</td>\n",
       "      <td>0.0</td>\n",
       "      <td>0.692</td>\n",
       "      <td>0.308</td>\n",
       "      <td>0.6124</td>\n",
       "    </tr>\n",
       "    <tr>\n",
       "      <th>3399</th>\n",
       "      <td>INTC</td>\n",
       "      <td>2023-01-06</td>\n",
       "      <td>08:35AM</td>\n",
       "      <td>AMD Challenges Intel's Gaming Dominance With N...</td>\n",
       "      <td>0.0</td>\n",
       "      <td>0.721</td>\n",
       "      <td>0.279</td>\n",
       "      <td>0.2732</td>\n",
       "    </tr>\n",
       "  </tbody>\n",
       "</table>\n",
       "</div>"
      ],
      "text/plain": [
       "     ticker        date     time  \\\n",
       "3395   INTC  2023-01-08  07:30AM   \n",
       "3396   INTC  2023-01-08  05:52AM   \n",
       "3397   INTC  2023-01-06  07:15PM   \n",
       "3398   INTC  2023-01-06  08:58AM   \n",
       "3399   INTC  2023-01-06  08:35AM   \n",
       "\n",
       "                                               headline  neg    neu    pos  \\\n",
       "3395  Should You Buy the 3 Highest-Paying Dividend S...  0.0  1.000  0.000   \n",
       "3396  The Dogs of the Dow Worked Last Year, But This...  0.0  1.000  0.000   \n",
       "3397                  Analyst Report: Intel Corporation  0.0  1.000  0.000   \n",
       "3398  The Smartest Dividend Stocks to Buy With $400 ...  0.0  0.692  0.308   \n",
       "3399  AMD Challenges Intel's Gaming Dominance With N...  0.0  0.721  0.279   \n",
       "\n",
       "      compound  \n",
       "3395    0.0000  \n",
       "3396    0.0000  \n",
       "3397    0.0000  \n",
       "3398    0.6124  \n",
       "3399    0.2732  "
      ]
     },
     "execution_count": 63,
     "metadata": {},
     "output_type": "execute_result"
    }
   ],
   "source": [
    "# Instantiate the sentiment intensity analyzer\n",
    "vader = SentimentIntensityAnalyzer()\n",
    "# Set column names\n",
    "columns = ['ticker', 'date', 'time', 'headline']\n",
    "# Convert the parsed_news list into a DataFrame called 'news_df'\n",
    "news_df = pd.DataFrame(parsed_news, columns=columns)\n",
    "\n",
    "# Iterate through the headlines and get the polarity scores using vader\n",
    "scores = news_df['headline'].apply(vader.polarity_scores).tolist()\n",
    "# Convert the 'scores' list of dicts into a DataFrame\n",
    "scores_df = pd.DataFrame(scores)\n",
    "\n",
    "# Join the DataFrames of the news and the list of dicts\n",
    "news_df = news_df.join(scores_df, rsuffix='_right')\n",
    "# Convert the date column from string to datetime\n",
    "news_df['date'] = pd.to_datetime(news_df.date).dt.date\n",
    "news_df.tail()"
   ]
  },
  {
   "cell_type": "code",
   "execution_count": 64,
   "metadata": {},
   "outputs": [
    {
     "name": "stderr",
     "output_type": "stream",
     "text": [
      "<ipython-input-64-12d9f0695b09>:2: FutureWarning:\n",
      "\n",
      "The default value of numeric_only in DataFrameGroupBy.mean is deprecated. In a future version, numeric_only will default to False. Either specify numeric_only or select only columns which should be valid for the function.\n",
      "\n"
     ]
    },
    {
     "data": {
      "text/html": [
       "<div>\n",
       "<style scoped>\n",
       "    .dataframe tbody tr th:only-of-type {\n",
       "        vertical-align: middle;\n",
       "    }\n",
       "\n",
       "    .dataframe tbody tr th {\n",
       "        vertical-align: top;\n",
       "    }\n",
       "\n",
       "    .dataframe thead th {\n",
       "        text-align: right;\n",
       "    }\n",
       "</style>\n",
       "<table border=\"1\" class=\"dataframe\">\n",
       "  <thead>\n",
       "    <tr style=\"text-align: right;\">\n",
       "      <th></th>\n",
       "      <th>neg</th>\n",
       "      <th>neu</th>\n",
       "      <th>pos</th>\n",
       "      <th>compound</th>\n",
       "    </tr>\n",
       "    <tr>\n",
       "      <th>ticker</th>\n",
       "      <th></th>\n",
       "      <th></th>\n",
       "      <th></th>\n",
       "      <th></th>\n",
       "    </tr>\n",
       "  </thead>\n",
       "  <tbody>\n",
       "    <tr>\n",
       "      <th>AAPL</th>\n",
       "      <td>0.06571</td>\n",
       "      <td>0.84033</td>\n",
       "      <td>0.09398</td>\n",
       "      <td>0.062473</td>\n",
       "    </tr>\n",
       "    <tr>\n",
       "      <th>AIG</th>\n",
       "      <td>0.04078</td>\n",
       "      <td>0.88955</td>\n",
       "      <td>0.06966</td>\n",
       "      <td>0.051789</td>\n",
       "    </tr>\n",
       "    <tr>\n",
       "      <th>AMD</th>\n",
       "      <td>0.03832</td>\n",
       "      <td>0.80791</td>\n",
       "      <td>0.15377</td>\n",
       "      <td>0.184061</td>\n",
       "    </tr>\n",
       "    <tr>\n",
       "      <th>AMZN</th>\n",
       "      <td>0.03676</td>\n",
       "      <td>0.80122</td>\n",
       "      <td>0.16203</td>\n",
       "      <td>0.174336</td>\n",
       "    </tr>\n",
       "    <tr>\n",
       "      <th>BA</th>\n",
       "      <td>0.05809</td>\n",
       "      <td>0.84908</td>\n",
       "      <td>0.09283</td>\n",
       "      <td>0.069331</td>\n",
       "    </tr>\n",
       "  </tbody>\n",
       "</table>\n",
       "</div>"
      ],
      "text/plain": [
       "            neg      neu      pos  compound\n",
       "ticker                                     \n",
       "AAPL    0.06571  0.84033  0.09398  0.062473\n",
       "AIG     0.04078  0.88955  0.06966  0.051789\n",
       "AMD     0.03832  0.80791  0.15377  0.184061\n",
       "AMZN    0.03676  0.80122  0.16203  0.174336\n",
       "BA      0.05809  0.84908  0.09283  0.069331"
      ]
     },
     "execution_count": 64,
     "metadata": {},
     "output_type": "execute_result"
    }
   ],
   "source": [
    "# Group by each ticker and get the mean of all sentiment scores\n",
    "mean_scores = news_df.groupby(['ticker']).mean()\n",
    "mean_scores.head()"
   ]
  },
  {
   "cell_type": "code",
   "execution_count": 65,
   "metadata": {},
   "outputs": [
    {
     "data": {
      "text/plain": [
       "{'zip': '94043',\n",
       " 'sector': 'Communication Services',\n",
       " 'fullTimeEmployees': 186779,\n",
       " 'longBusinessSummary': 'Alphabet Inc. provides various products and platforms in the United States, Europe, the Middle East, Africa, the Asia-Pacific, Canada, and Latin America. It operates through Google Services, Google Cloud, and Other Bets segments. The Google Services segment offers products and services, including ads, Android, Chrome, hardware, Gmail, Google Drive, Google Maps, Google Photos, Google Play, Search, and YouTube. It is also involved in the sale of apps and in-app purchases and digital content in the Google Play store; and Fitbit wearable devices, Google Nest home products, Pixel phones, and other devices, as well as in the provision of YouTube non-advertising services. The Google Cloud segment offers infrastructure, platform, and other services; Google Workspace that include cloud-based collaboration tools for enterprises, such as Gmail, Docs, Drive, Calendar, and Meet; and other services for enterprise customers. The Other Bets segment sells health technology and internet services. The company was founded in 1998 and is headquartered in Mountain View, California.',\n",
       " 'city': 'Mountain View',\n",
       " 'phone': '650 253 0000',\n",
       " 'state': 'CA',\n",
       " 'country': 'United States',\n",
       " 'companyOfficers': [],\n",
       " 'website': 'https://www.abc.xyz',\n",
       " 'maxAge': 1,\n",
       " 'address1': '1600 Amphitheatre Parkway',\n",
       " 'industry': 'Internet Content & Information',\n",
       " 'ebitdaMargins': 0.33225,\n",
       " 'profitMargins': 0.23746,\n",
       " 'grossMargins': 0.56099,\n",
       " 'operatingCashflow': 92814999552,\n",
       " 'revenueGrowth': 0.061,\n",
       " 'operatingMargins': 0.27849,\n",
       " 'ebitda': 93733003264,\n",
       " 'targetLowPrice': 110,\n",
       " 'recommendationKey': 'strong_buy',\n",
       " 'grossProfits': 146698000000,\n",
       " 'freeCashflow': 48262373376,\n",
       " 'targetMedianPrice': 121.5,\n",
       " 'currentPrice': 99.28,\n",
       " 'earningsGrowth': -0.241,\n",
       " 'currentRatio': 2.518,\n",
       " 'returnOnAssets': 0.13916999,\n",
       " 'numberOfAnalystOpinions': 10,\n",
       " 'targetMeanPrice': 124.7,\n",
       " 'debtToEquity': 11.567,\n",
       " 'returnOnEquity': 0.26893,\n",
       " 'targetHighPrice': 135,\n",
       " 'totalCash': 116258996224,\n",
       " 'totalDebt': 29336000512,\n",
       " 'totalRevenue': 282113015808,\n",
       " 'totalCashPerShare': 8.982,\n",
       " 'financialCurrency': 'USD',\n",
       " 'revenuePerShare': 21.45,\n",
       " 'quickRatio': 2.31,\n",
       " 'recommendationMean': 1.5,\n",
       " 'exchange': 'NMS',\n",
       " 'shortName': 'Alphabet Inc.',\n",
       " 'longName': 'Alphabet Inc.',\n",
       " 'exchangeTimezoneName': 'America/New_York',\n",
       " 'exchangeTimezoneShortName': 'EST',\n",
       " 'isEsgPopulated': False,\n",
       " 'gmtOffSetMilliseconds': '-18000000',\n",
       " 'quoteType': 'EQUITY',\n",
       " 'symbol': 'GOOG',\n",
       " 'messageBoardId': 'finmb_29096',\n",
       " 'market': 'us_market',\n",
       " 'annualHoldingsTurnover': None,\n",
       " 'enterpriseToRevenue': 4.247,\n",
       " 'beta3Year': None,\n",
       " 'enterpriseToEbitda': 12.782,\n",
       " '52WeekChange': -0.23848677,\n",
       " 'morningStarRiskRating': None,\n",
       " 'forwardEps': 5.22,\n",
       " 'revenueQuarterlyGrowth': None,\n",
       " 'sharesOutstanding': 6086000128,\n",
       " 'fundInceptionDate': None,\n",
       " 'annualReportExpenseRatio': None,\n",
       " 'totalAssets': None,\n",
       " 'bookValue': 19.553,\n",
       " 'sharesShort': 31817694,\n",
       " 'sharesPercentSharesOut': 0.0025,\n",
       " 'fundFamily': None,\n",
       " 'lastFiscalYearEnd': 1640908800,\n",
       " 'heldPercentInstitutions': 0.64371,\n",
       " 'netIncomeToCommon': 66989998080,\n",
       " 'trailingEps': 5.44,\n",
       " 'lastDividendValue': None,\n",
       " 'SandP52WeekChange': -0.09920794,\n",
       " 'priceToBook': 5.0774817,\n",
       " 'heldPercentInsiders': 0.00037,\n",
       " 'nextFiscalYearEnd': 1672444800,\n",
       " 'yield': None,\n",
       " 'mostRecentQuarter': 1664496000,\n",
       " 'shortRatio': 1.3,\n",
       " 'sharesShortPreviousMonthDate': 1669766400,\n",
       " 'floatShares': 11260021710,\n",
       " 'beta': 1.069061,\n",
       " 'enterpriseValue': 1198057979904,\n",
       " 'priceHint': 2,\n",
       " 'threeYearAverageReturn': None,\n",
       " 'lastSplitDate': 1658102400,\n",
       " 'lastSplitFactor': '20:1',\n",
       " 'legalType': None,\n",
       " 'lastDividendDate': None,\n",
       " 'morningStarOverallRating': None,\n",
       " 'earningsQuarterlyGrowth': -0.265,\n",
       " 'priceToSalesTrailing12Months': 4.5242286,\n",
       " 'dateShortInterest': 1672358400,\n",
       " 'pegRatio': 2.23,\n",
       " 'ytdReturn': None,\n",
       " 'forwardPE': 19.019157,\n",
       " 'lastCapGain': None,\n",
       " 'shortPercentOfFloat': None,\n",
       " 'sharesShortPriorMonth': 30054717,\n",
       " 'impliedSharesOutstanding': 0,\n",
       " 'category': None,\n",
       " 'fiveYearAverageReturn': None,\n",
       " 'previousClose': 93.91,\n",
       " 'regularMarketOpen': 95.95,\n",
       " 'twoHundredDayAverage': 106.92866,\n",
       " 'trailingAnnualDividendYield': 0,\n",
       " 'payoutRatio': 0,\n",
       " 'volume24Hr': None,\n",
       " 'regularMarketDayHigh': 99.42,\n",
       " 'navPrice': None,\n",
       " 'averageDailyVolume10Day': 26472280,\n",
       " 'regularMarketPreviousClose': 93.91,\n",
       " 'fiftyDayAverage': 93.4572,\n",
       " 'trailingAnnualDividendRate': 0,\n",
       " 'open': 95.95,\n",
       " 'toCurrency': None,\n",
       " 'averageVolume10days': 26472280,\n",
       " 'expireDate': None,\n",
       " 'algorithm': None,\n",
       " 'dividendRate': None,\n",
       " 'exDividendDate': None,\n",
       " 'circulatingSupply': None,\n",
       " 'startDate': None,\n",
       " 'regularMarketDayLow': 95.91,\n",
       " 'currency': 'USD',\n",
       " 'trailingPE': 18.25,\n",
       " 'regularMarketVolume': 53704763,\n",
       " 'lastMarket': None,\n",
       " 'maxSupply': None,\n",
       " 'openInterest': None,\n",
       " 'marketCap': 1276343746560,\n",
       " 'volumeAllCurrencies': None,\n",
       " 'strikePrice': None,\n",
       " 'averageVolume': 27596142,\n",
       " 'dayLow': 95.91,\n",
       " 'ask': 99.48,\n",
       " 'askSize': 1100,\n",
       " 'volume': 53704763,\n",
       " 'fiftyTwoWeekHigh': 152.1,\n",
       " 'fromCurrency': None,\n",
       " 'fiveYearAvgDividendYield': None,\n",
       " 'fiftyTwoWeekLow': 83.45,\n",
       " 'bid': 99.3,\n",
       " 'tradeable': False,\n",
       " 'dividendYield': None,\n",
       " 'bidSize': 900,\n",
       " 'dayHigh': 99.42,\n",
       " 'coinMarketCapLink': None,\n",
       " 'regularMarketPrice': 99.28,\n",
       " 'preMarketPrice': None,\n",
       " 'logo_url': 'https://logo.clearbit.com/abc.xyz',\n",
       " 'trailingPegRatio': 1.294}"
      ]
     },
     "execution_count": 65,
     "metadata": {},
     "output_type": "execute_result"
    }
   ],
   "source": [
    "# Get Current Price, Sector and Industry of each Ticker\n",
    "# as an example this is the information that the api returns for Google\n",
    "tickerdata = yf.Ticker('GOOG')\n",
    "tickerdata.info"
   ]
  },
  {
   "cell_type": "code",
   "execution_count": 66,
   "metadata": {},
   "outputs": [
    {
     "name": "stdout",
     "output_type": "stream",
     "text": [
      "AMZN\n",
      "TSLA\n",
      "GOOG\n",
      "META\n",
      "KO\n",
      "PEP\n",
      "BA\n",
      "XOM\n",
      "CVX\n",
      "UNH\n",
      "JNJ\n",
      "JPM\n",
      "BAC\n",
      "C\n",
      "SPG\n",
      "AAPL\n",
      "MSFT\n",
      "WMT\n",
      "LMT\n",
      "PFE\n",
      "MMM\n",
      "CRWD\n",
      "WBD\n",
      "DIS\n",
      "AIG\n",
      "BRK-B\n",
      "DDOG\n",
      "SLB\n",
      "SONY\n",
      "PLD\n",
      "INT\n",
      "AMD\n",
      "ISRG\n",
      "INTC\n"
     ]
    },
    {
     "data": {
      "text/html": [
       "<div>\n",
       "<style scoped>\n",
       "    .dataframe tbody tr th:only-of-type {\n",
       "        vertical-align: middle;\n",
       "    }\n",
       "\n",
       "    .dataframe tbody tr th {\n",
       "        vertical-align: top;\n",
       "    }\n",
       "\n",
       "    .dataframe thead th {\n",
       "        text-align: right;\n",
       "    }\n",
       "</style>\n",
       "<table border=\"1\" class=\"dataframe\">\n",
       "  <thead>\n",
       "    <tr style=\"text-align: right;\">\n",
       "      <th></th>\n",
       "      <th>Sector</th>\n",
       "      <th>Industry</th>\n",
       "      <th>Price</th>\n",
       "      <th>No. of Shares</th>\n",
       "    </tr>\n",
       "  </thead>\n",
       "  <tbody>\n",
       "    <tr>\n",
       "      <th>AMZN</th>\n",
       "      <td>Consumer Cyclical</td>\n",
       "      <td>Internet Retail</td>\n",
       "      <td>97.25</td>\n",
       "      <td>5</td>\n",
       "    </tr>\n",
       "    <tr>\n",
       "      <th>TSLA</th>\n",
       "      <td>Consumer Cyclical</td>\n",
       "      <td>Auto Manufacturers</td>\n",
       "      <td>133.42</td>\n",
       "      <td>1</td>\n",
       "    </tr>\n",
       "    <tr>\n",
       "      <th>GOOG</th>\n",
       "      <td>Communication Services</td>\n",
       "      <td>Internet Content &amp; Information</td>\n",
       "      <td>99.28</td>\n",
       "      <td>3</td>\n",
       "    </tr>\n",
       "    <tr>\n",
       "      <th>META</th>\n",
       "      <td>Communication Services</td>\n",
       "      <td>Internet Content &amp; Information</td>\n",
       "      <td>139.37</td>\n",
       "      <td>3</td>\n",
       "    </tr>\n",
       "    <tr>\n",
       "      <th>KO</th>\n",
       "      <td>Consumer Defensive</td>\n",
       "      <td>Beverages—Non-Alcoholic</td>\n",
       "      <td>60.08</td>\n",
       "      <td>10</td>\n",
       "    </tr>\n",
       "    <tr>\n",
       "      <th>PEP</th>\n",
       "      <td>Consumer Defensive</td>\n",
       "      <td>Beverages—Non-Alcoholic</td>\n",
       "      <td>169.88</td>\n",
       "      <td>5</td>\n",
       "    </tr>\n",
       "    <tr>\n",
       "      <th>BA</th>\n",
       "      <td>Industrials</td>\n",
       "      <td>Aerospace &amp; Defense</td>\n",
       "      <td>206.76</td>\n",
       "      <td>5</td>\n",
       "    </tr>\n",
       "    <tr>\n",
       "      <th>XOM</th>\n",
       "      <td>Energy</td>\n",
       "      <td>Oil &amp; Gas Integrated</td>\n",
       "      <td>113.35</td>\n",
       "      <td>5</td>\n",
       "    </tr>\n",
       "    <tr>\n",
       "      <th>CVX</th>\n",
       "      <td>Energy</td>\n",
       "      <td>Oil &amp; Gas Integrated</td>\n",
       "      <td>180.90</td>\n",
       "      <td>4</td>\n",
       "    </tr>\n",
       "    <tr>\n",
       "      <th>UNH</th>\n",
       "      <td>Healthcare</td>\n",
       "      <td>Healthcare Plans</td>\n",
       "      <td>486.72</td>\n",
       "      <td>1</td>\n",
       "    </tr>\n",
       "    <tr>\n",
       "      <th>JNJ</th>\n",
       "      <td>Healthcare</td>\n",
       "      <td>Drug Manufacturers—General</td>\n",
       "      <td>168.74</td>\n",
       "      <td>3</td>\n",
       "    </tr>\n",
       "    <tr>\n",
       "      <th>JPM</th>\n",
       "      <td>Financial Services</td>\n",
       "      <td>Banks—Diversified</td>\n",
       "      <td>135.08</td>\n",
       "      <td>3</td>\n",
       "    </tr>\n",
       "    <tr>\n",
       "      <th>BAC</th>\n",
       "      <td>Financial Services</td>\n",
       "      <td>Banks—Diversified</td>\n",
       "      <td>33.85</td>\n",
       "      <td>5</td>\n",
       "    </tr>\n",
       "    <tr>\n",
       "      <th>C</th>\n",
       "      <td>Financial Services</td>\n",
       "      <td>Banks—Diversified</td>\n",
       "      <td>51.09</td>\n",
       "      <td>5</td>\n",
       "    </tr>\n",
       "    <tr>\n",
       "      <th>SPG</th>\n",
       "      <td>Real Estate</td>\n",
       "      <td>REIT—Retail</td>\n",
       "      <td>123.65</td>\n",
       "      <td>10</td>\n",
       "    </tr>\n",
       "    <tr>\n",
       "      <th>AAPL</th>\n",
       "      <td>Technology</td>\n",
       "      <td>Consumer Electronics</td>\n",
       "      <td>137.87</td>\n",
       "      <td>6</td>\n",
       "    </tr>\n",
       "    <tr>\n",
       "      <th>MSFT</th>\n",
       "      <td>Technology</td>\n",
       "      <td>Software—Infrastructure</td>\n",
       "      <td>240.22</td>\n",
       "      <td>5</td>\n",
       "    </tr>\n",
       "    <tr>\n",
       "      <th>WMT</th>\n",
       "      <td>Consumer Defensive</td>\n",
       "      <td>Discount Stores</td>\n",
       "      <td>140.54</td>\n",
       "      <td>6</td>\n",
       "    </tr>\n",
       "    <tr>\n",
       "      <th>LMT</th>\n",
       "      <td>Industrials</td>\n",
       "      <td>Aerospace &amp; Defense</td>\n",
       "      <td>443.28</td>\n",
       "      <td>2</td>\n",
       "    </tr>\n",
       "    <tr>\n",
       "      <th>PFE</th>\n",
       "      <td>Healthcare</td>\n",
       "      <td>Drug Manufacturers—General</td>\n",
       "      <td>45.11</td>\n",
       "      <td>10</td>\n",
       "    </tr>\n",
       "    <tr>\n",
       "      <th>MMM</th>\n",
       "      <td>Industrials</td>\n",
       "      <td>Conglomerates</td>\n",
       "      <td>120.65</td>\n",
       "      <td>3</td>\n",
       "    </tr>\n",
       "    <tr>\n",
       "      <th>CRWD</th>\n",
       "      <td>Technology</td>\n",
       "      <td>Software—Infrastructure</td>\n",
       "      <td>103.41</td>\n",
       "      <td>3</td>\n",
       "    </tr>\n",
       "    <tr>\n",
       "      <th>WBD</th>\n",
       "      <td>Communication Services</td>\n",
       "      <td>Entertainment</td>\n",
       "      <td>13.02</td>\n",
       "      <td>20</td>\n",
       "    </tr>\n",
       "    <tr>\n",
       "      <th>DIS</th>\n",
       "      <td>Communication Services</td>\n",
       "      <td>Entertainment</td>\n",
       "      <td>103.48</td>\n",
       "      <td>8</td>\n",
       "    </tr>\n",
       "    <tr>\n",
       "      <th>AIG</th>\n",
       "      <td>Financial Services</td>\n",
       "      <td>Insurance—Diversified</td>\n",
       "      <td>62.47</td>\n",
       "      <td>5</td>\n",
       "    </tr>\n",
       "    <tr>\n",
       "      <th>BRK-B</th>\n",
       "      <td>Financial Services</td>\n",
       "      <td>Insurance—Diversified</td>\n",
       "      <td>309.87</td>\n",
       "      <td>4</td>\n",
       "    </tr>\n",
       "    <tr>\n",
       "      <th>DDOG</th>\n",
       "      <td>Technology</td>\n",
       "      <td>Software—Application</td>\n",
       "      <td>71.05</td>\n",
       "      <td>3</td>\n",
       "    </tr>\n",
       "    <tr>\n",
       "      <th>SLB</th>\n",
       "      <td>Energy</td>\n",
       "      <td>Oil &amp; Gas Equipment &amp; Services</td>\n",
       "      <td>57.35</td>\n",
       "      <td>16</td>\n",
       "    </tr>\n",
       "    <tr>\n",
       "      <th>SONY</th>\n",
       "      <td>Technology</td>\n",
       "      <td>Consumer Electronics</td>\n",
       "      <td>89.29</td>\n",
       "      <td>5</td>\n",
       "    </tr>\n",
       "    <tr>\n",
       "      <th>PLD</th>\n",
       "      <td>Real Estate</td>\n",
       "      <td>REIT—Industrial</td>\n",
       "      <td>122.82</td>\n",
       "      <td>5</td>\n",
       "    </tr>\n",
       "    <tr>\n",
       "      <th>INT</th>\n",
       "      <td>Energy</td>\n",
       "      <td>Oil &amp; Gas Refining &amp; Marketing</td>\n",
       "      <td>27.93</td>\n",
       "      <td>16</td>\n",
       "    </tr>\n",
       "    <tr>\n",
       "      <th>AMD</th>\n",
       "      <td>Technology</td>\n",
       "      <td>Semiconductors</td>\n",
       "      <td>70.07</td>\n",
       "      <td>5</td>\n",
       "    </tr>\n",
       "    <tr>\n",
       "      <th>ISRG</th>\n",
       "      <td>Healthcare</td>\n",
       "      <td>Medical Instruments &amp; Supplies</td>\n",
       "      <td>256.77</td>\n",
       "      <td>3</td>\n",
       "    </tr>\n",
       "    <tr>\n",
       "      <th>INTC</th>\n",
       "      <td>Technology</td>\n",
       "      <td>Semiconductors</td>\n",
       "      <td>29.22</td>\n",
       "      <td>5</td>\n",
       "    </tr>\n",
       "  </tbody>\n",
       "</table>\n",
       "</div>"
      ],
      "text/plain": [
       "                       Sector                        Industry   Price  \\\n",
       "AMZN        Consumer Cyclical                 Internet Retail   97.25   \n",
       "TSLA        Consumer Cyclical              Auto Manufacturers  133.42   \n",
       "GOOG   Communication Services  Internet Content & Information   99.28   \n",
       "META   Communication Services  Internet Content & Information  139.37   \n",
       "KO         Consumer Defensive         Beverages—Non-Alcoholic   60.08   \n",
       "PEP        Consumer Defensive         Beverages—Non-Alcoholic  169.88   \n",
       "BA                Industrials             Aerospace & Defense  206.76   \n",
       "XOM                    Energy            Oil & Gas Integrated  113.35   \n",
       "CVX                    Energy            Oil & Gas Integrated  180.90   \n",
       "UNH                Healthcare                Healthcare Plans  486.72   \n",
       "JNJ                Healthcare      Drug Manufacturers—General  168.74   \n",
       "JPM        Financial Services               Banks—Diversified  135.08   \n",
       "BAC        Financial Services               Banks—Diversified   33.85   \n",
       "C          Financial Services               Banks—Diversified   51.09   \n",
       "SPG               Real Estate                     REIT—Retail  123.65   \n",
       "AAPL               Technology            Consumer Electronics  137.87   \n",
       "MSFT               Technology         Software—Infrastructure  240.22   \n",
       "WMT        Consumer Defensive                 Discount Stores  140.54   \n",
       "LMT               Industrials             Aerospace & Defense  443.28   \n",
       "PFE                Healthcare      Drug Manufacturers—General   45.11   \n",
       "MMM               Industrials                   Conglomerates  120.65   \n",
       "CRWD               Technology         Software—Infrastructure  103.41   \n",
       "WBD    Communication Services                   Entertainment   13.02   \n",
       "DIS    Communication Services                   Entertainment  103.48   \n",
       "AIG        Financial Services           Insurance—Diversified   62.47   \n",
       "BRK-B      Financial Services           Insurance—Diversified  309.87   \n",
       "DDOG               Technology            Software—Application   71.05   \n",
       "SLB                    Energy  Oil & Gas Equipment & Services   57.35   \n",
       "SONY               Technology            Consumer Electronics   89.29   \n",
       "PLD               Real Estate                 REIT—Industrial  122.82   \n",
       "INT                    Energy  Oil & Gas Refining & Marketing   27.93   \n",
       "AMD                Technology                  Semiconductors   70.07   \n",
       "ISRG               Healthcare  Medical Instruments & Supplies  256.77   \n",
       "INTC               Technology                  Semiconductors   29.22   \n",
       "\n",
       "       No. of Shares  \n",
       "AMZN               5  \n",
       "TSLA               1  \n",
       "GOOG               3  \n",
       "META               3  \n",
       "KO                10  \n",
       "PEP                5  \n",
       "BA                 5  \n",
       "XOM                5  \n",
       "CVX                4  \n",
       "UNH                1  \n",
       "JNJ                3  \n",
       "JPM                3  \n",
       "BAC                5  \n",
       "C                  5  \n",
       "SPG               10  \n",
       "AAPL               6  \n",
       "MSFT               5  \n",
       "WMT                6  \n",
       "LMT                2  \n",
       "PFE               10  \n",
       "MMM                3  \n",
       "CRWD               3  \n",
       "WBD               20  \n",
       "DIS                8  \n",
       "AIG                5  \n",
       "BRK-B              4  \n",
       "DDOG               3  \n",
       "SLB               16  \n",
       "SONY               5  \n",
       "PLD                5  \n",
       "INT               16  \n",
       "AMD                5  \n",
       "ISRG               3  \n",
       "INTC               5  "
      ]
     },
     "execution_count": 66,
     "metadata": {},
     "output_type": "execute_result"
    }
   ],
   "source": [
    "# Now, we do it for all the companies and extract the necessary information\n",
    "\n",
    "sectors = []\n",
    "industries = []\n",
    "prices = []\n",
    "for ticker in tickers:\n",
    "    print(ticker)\n",
    "    tickerdata = yf.Ticker(ticker)\n",
    "    prices.append(tickerdata.info['regularMarketPrice'])\n",
    "    sectors.append(tickerdata.info['sector'])\n",
    "    industries.append(tickerdata.info['industry'])\n",
    "\n",
    "d = {'Sector': sectors, 'Industry': industries, 'Price': prices, 'No. of Shares': n_shares}\n",
    "df_info = pd.DataFrame(data=d, index = tickers)\n",
    "df_info"
   ]
  },
  {
   "cell_type": "code",
   "execution_count": 67,
   "metadata": {},
   "outputs": [
    {
     "data": {
      "text/html": [
       "<div>\n",
       "<style scoped>\n",
       "    .dataframe tbody tr th:only-of-type {\n",
       "        vertical-align: middle;\n",
       "    }\n",
       "\n",
       "    .dataframe tbody tr th {\n",
       "        vertical-align: top;\n",
       "    }\n",
       "\n",
       "    .dataframe thead th {\n",
       "        text-align: right;\n",
       "    }\n",
       "</style>\n",
       "<table border=\"1\" class=\"dataframe\">\n",
       "  <thead>\n",
       "    <tr style=\"text-align: right;\">\n",
       "      <th></th>\n",
       "      <th>Sector</th>\n",
       "      <th>Industry</th>\n",
       "      <th>Price</th>\n",
       "      <th>No. of Shares</th>\n",
       "      <th>Total Stock Value in Portfolio</th>\n",
       "    </tr>\n",
       "  </thead>\n",
       "  <tbody>\n",
       "    <tr>\n",
       "      <th>AMZN</th>\n",
       "      <td>Consumer Cyclical</td>\n",
       "      <td>Internet Retail</td>\n",
       "      <td>97.25</td>\n",
       "      <td>5</td>\n",
       "      <td>486.25</td>\n",
       "    </tr>\n",
       "    <tr>\n",
       "      <th>TSLA</th>\n",
       "      <td>Consumer Cyclical</td>\n",
       "      <td>Auto Manufacturers</td>\n",
       "      <td>133.42</td>\n",
       "      <td>1</td>\n",
       "      <td>133.42</td>\n",
       "    </tr>\n",
       "    <tr>\n",
       "      <th>GOOG</th>\n",
       "      <td>Communication Services</td>\n",
       "      <td>Internet Content &amp; Information</td>\n",
       "      <td>99.28</td>\n",
       "      <td>3</td>\n",
       "      <td>297.84</td>\n",
       "    </tr>\n",
       "    <tr>\n",
       "      <th>META</th>\n",
       "      <td>Communication Services</td>\n",
       "      <td>Internet Content &amp; Information</td>\n",
       "      <td>139.37</td>\n",
       "      <td>3</td>\n",
       "      <td>418.11</td>\n",
       "    </tr>\n",
       "    <tr>\n",
       "      <th>KO</th>\n",
       "      <td>Consumer Defensive</td>\n",
       "      <td>Beverages—Non-Alcoholic</td>\n",
       "      <td>60.08</td>\n",
       "      <td>10</td>\n",
       "      <td>600.80</td>\n",
       "    </tr>\n",
       "  </tbody>\n",
       "</table>\n",
       "</div>"
      ],
      "text/plain": [
       "                      Sector                        Industry   Price  \\\n",
       "AMZN       Consumer Cyclical                 Internet Retail   97.25   \n",
       "TSLA       Consumer Cyclical              Auto Manufacturers  133.42   \n",
       "GOOG  Communication Services  Internet Content & Information   99.28   \n",
       "META  Communication Services  Internet Content & Information  139.37   \n",
       "KO        Consumer Defensive         Beverages—Non-Alcoholic   60.08   \n",
       "\n",
       "      No. of Shares  Total Stock Value in Portfolio  \n",
       "AMZN              5                          486.25  \n",
       "TSLA              1                          133.42  \n",
       "GOOG              3                          297.84  \n",
       "META              3                          418.11  \n",
       "KO               10                          600.80  "
      ]
     },
     "execution_count": 67,
     "metadata": {},
     "output_type": "execute_result"
    }
   ],
   "source": [
    "# we  create a column of the total value of each share\n",
    "df_info['Total Stock Value in Portfolio'] = df_info['Price']*df_info['No. of Shares']\n",
    "df_info.head()"
   ]
  },
  {
   "cell_type": "code",
   "execution_count": 68,
   "metadata": {},
   "outputs": [
    {
     "data": {
      "text/html": [
       "<div>\n",
       "<style scoped>\n",
       "    .dataframe tbody tr th:only-of-type {\n",
       "        vertical-align: middle;\n",
       "    }\n",
       "\n",
       "    .dataframe tbody tr th {\n",
       "        vertical-align: top;\n",
       "    }\n",
       "\n",
       "    .dataframe thead th {\n",
       "        text-align: right;\n",
       "    }\n",
       "</style>\n",
       "<table border=\"1\" class=\"dataframe\">\n",
       "  <thead>\n",
       "    <tr style=\"text-align: right;\">\n",
       "      <th></th>\n",
       "      <th>ticker</th>\n",
       "      <th>Negative</th>\n",
       "      <th>Neutral</th>\n",
       "      <th>Positive</th>\n",
       "      <th>Sentiment Score</th>\n",
       "      <th>Sector</th>\n",
       "      <th>Industry</th>\n",
       "      <th>Price</th>\n",
       "      <th>No. of Shares</th>\n",
       "      <th>Total Stock Value in Portfolio</th>\n",
       "    </tr>\n",
       "  </thead>\n",
       "  <tbody>\n",
       "    <tr>\n",
       "      <th>0</th>\n",
       "      <td>AAPL</td>\n",
       "      <td>0.06571</td>\n",
       "      <td>0.84033</td>\n",
       "      <td>0.09398</td>\n",
       "      <td>0.062473</td>\n",
       "      <td>Technology</td>\n",
       "      <td>Consumer Electronics</td>\n",
       "      <td>137.87</td>\n",
       "      <td>6</td>\n",
       "      <td>827.22</td>\n",
       "    </tr>\n",
       "    <tr>\n",
       "      <th>1</th>\n",
       "      <td>AIG</td>\n",
       "      <td>0.04078</td>\n",
       "      <td>0.88955</td>\n",
       "      <td>0.06966</td>\n",
       "      <td>0.051789</td>\n",
       "      <td>Financial Services</td>\n",
       "      <td>Insurance—Diversified</td>\n",
       "      <td>62.47</td>\n",
       "      <td>5</td>\n",
       "      <td>312.35</td>\n",
       "    </tr>\n",
       "    <tr>\n",
       "      <th>2</th>\n",
       "      <td>AMD</td>\n",
       "      <td>0.03832</td>\n",
       "      <td>0.80791</td>\n",
       "      <td>0.15377</td>\n",
       "      <td>0.184061</td>\n",
       "      <td>Technology</td>\n",
       "      <td>Semiconductors</td>\n",
       "      <td>70.07</td>\n",
       "      <td>5</td>\n",
       "      <td>350.35</td>\n",
       "    </tr>\n",
       "    <tr>\n",
       "      <th>3</th>\n",
       "      <td>AMZN</td>\n",
       "      <td>0.03676</td>\n",
       "      <td>0.80122</td>\n",
       "      <td>0.16203</td>\n",
       "      <td>0.174336</td>\n",
       "      <td>Consumer Cyclical</td>\n",
       "      <td>Internet Retail</td>\n",
       "      <td>97.25</td>\n",
       "      <td>5</td>\n",
       "      <td>486.25</td>\n",
       "    </tr>\n",
       "    <tr>\n",
       "      <th>4</th>\n",
       "      <td>BA</td>\n",
       "      <td>0.05809</td>\n",
       "      <td>0.84908</td>\n",
       "      <td>0.09283</td>\n",
       "      <td>0.069331</td>\n",
       "      <td>Industrials</td>\n",
       "      <td>Aerospace &amp; Defense</td>\n",
       "      <td>206.76</td>\n",
       "      <td>5</td>\n",
       "      <td>1033.80</td>\n",
       "    </tr>\n",
       "  </tbody>\n",
       "</table>\n",
       "</div>"
      ],
      "text/plain": [
       "  ticker  Negative  Neutral  Positive  Sentiment Score              Sector  \\\n",
       "0   AAPL   0.06571  0.84033   0.09398         0.062473          Technology   \n",
       "1    AIG   0.04078  0.88955   0.06966         0.051789  Financial Services   \n",
       "2    AMD   0.03832  0.80791   0.15377         0.184061          Technology   \n",
       "3   AMZN   0.03676  0.80122   0.16203         0.174336   Consumer Cyclical   \n",
       "4     BA   0.05809  0.84908   0.09283         0.069331         Industrials   \n",
       "\n",
       "                Industry   Price  No. of Shares  \\\n",
       "0   Consumer Electronics  137.87              6   \n",
       "1  Insurance—Diversified   62.47              5   \n",
       "2         Semiconductors   70.07              5   \n",
       "3        Internet Retail   97.25              5   \n",
       "4    Aerospace & Defense  206.76              5   \n",
       "\n",
       "   Total Stock Value in Portfolio  \n",
       "0                          827.22  \n",
       "1                          312.35  \n",
       "2                          350.35  \n",
       "3                          486.25  \n",
       "4                         1033.80  "
      ]
     },
     "execution_count": 68,
     "metadata": {},
     "output_type": "execute_result"
    }
   ],
   "source": [
    "df = mean_scores.join(df_info)\n",
    "df = df.rename(columns={\"compound\": \"Sentiment Score\", \"neg\": \"Negative\", \"neu\": \"Neutral\", \"pos\": \"Positive\"})\n",
    "df = df.reset_index()\n",
    "df.head()"
   ]
  },
  {
   "cell_type": "code",
   "execution_count": 69,
   "metadata": {},
   "outputs": [],
   "source": [
    "#Now we generate the required treemap\n",
    "import matplotlib.pyplot as plt\n",
    "%matplotlib inline\n",
    "import plotly\n",
    "import plotly.express as px"
   ]
  },
  {
   "cell_type": "code",
   "execution_count": 70,
   "metadata": {},
   "outputs": [
    {
     "data": {
      "application/vnd.plotly.v1+json": {
       "config": {
        "plotlyServerURL": "https://plot.ly"
       },
       "data": [
        {
         "branchvalues": "total",
         "customdata": [
          [
           137.87,
           0.066,
           0.84,
           0.094,
           0.062
          ],
          [
           62.47,
           0.041,
           0.89,
           0.07,
           0.052
          ],
          [
           70.07,
           0.038,
           0.808,
           0.154,
           0.184
          ],
          [
           97.25,
           0.037,
           0.801,
           0.162,
           0.174
          ],
          [
           206.76,
           0.058,
           0.849,
           0.093,
           0.069
          ],
          [
           33.85,
           0.074,
           0.827,
           0.099,
           0.034
          ],
          [
           309.87,
           0.015,
           0.883,
           0.102,
           0.144
          ],
          [
           51.09,
           0.067,
           0.836,
           0.097,
           0.047
          ],
          [
           103.41,
           0.032,
           0.832,
           0.135,
           0.169
          ],
          [
           180.9,
           0.052,
           0.854,
           0.094,
           0.051
          ],
          [
           71.05,
           0.029,
           0.84,
           0.131,
           0.151
          ],
          [
           103.48,
           0.086,
           0.815,
           0.099,
           0.023
          ],
          [
           99.28,
           0.037,
           0.883,
           0.08,
           0.061
          ],
          [
           27.93,
           0.016,
           0.899,
           0.085,
           0.123
          ],
          [
           29.22,
           0.037,
           0.873,
           0.09,
           0.08
          ],
          [
           256.77,
           0.027,
           0.825,
           0.148,
           0.201
          ],
          [
           168.74,
           0.045,
           0.82,
           0.134,
           0.151
          ],
          [
           135.08,
           0.084,
           0.803,
           0.112,
           0.048
          ],
          [
           60.08,
           0.02,
           0.852,
           0.127,
           0.171
          ],
          [
           443.28,
           0.042,
           0.763,
           0.195,
           0.249
          ],
          [
           139.37,
           0.064,
           0.846,
           0.091,
           0.039
          ],
          [
           120.65,
           0.045,
           0.845,
           0.11,
           0.1
          ],
          [
           240.22,
           0.071,
           0.861,
           0.068,
           0.008
          ],
          [
           169.88,
           0.032,
           0.86,
           0.108,
           0.12
          ],
          [
           45.11,
           0.054,
           0.848,
           0.098,
           0.095
          ],
          [
           122.82,
           0.026,
           0.843,
           0.132,
           0.173
          ],
          [
           57.35,
           0.043,
           0.824,
           0.133,
           0.178
          ],
          [
           89.29,
           0.039,
           0.864,
           0.097,
           0.091
          ],
          [
           123.65,
           0.033,
           0.84,
           0.127,
           0.15
          ],
          [
           133.42,
           0.09,
           0.837,
           0.073,
           -0.029
          ],
          [
           486.72,
           0.044,
           0.818,
           0.138,
           0.159
          ],
          [
           13.02,
           0.052,
           0.869,
           0.079,
           0.059
          ],
          [
           140.54,
           0.064,
           0.814,
           0.122,
           0.082
          ],
          [
           113.35,
           0.046,
           0.824,
           0.13,
           0.132
          ]
         ],
         "domain": {
          "x": [
           0,
           1
          ],
          "y": [
           0,
           1
          ]
         },
         "hovertemplate": "labels=%{label}<br>Total Stock Value in Portfolio=%{value}<br>parent=%{parent}<br>id=%{id}<br>Price=%{customdata[0]}<br>Negative=%{customdata[1]}<br>Neutral=%{customdata[2]}<br>Positive=%{customdata[3]}<br>Sentiment Score=%{color}<extra></extra>",
         "ids": [
          "Sectors/Technology/Consumer Electronics/AAPL",
          "Sectors/Financial Services/Insurance—Diversified/AIG",
          "Sectors/Technology/Semiconductors/AMD",
          "Sectors/Consumer Cyclical/Internet Retail/AMZN",
          "Sectors/Industrials/Aerospace & Defense/BA",
          "Sectors/Financial Services/Banks—Diversified/BAC",
          "Sectors/Financial Services/Insurance—Diversified/BRK-B",
          "Sectors/Financial Services/Banks—Diversified/C",
          "Sectors/Technology/Software—Infrastructure/CRWD",
          "Sectors/Energy/Oil & Gas Integrated/CVX",
          "Sectors/Technology/Software—Application/DDOG",
          "Sectors/Communication Services/Entertainment/DIS",
          "Sectors/Communication Services/Internet Content & Information/GOOG",
          "Sectors/Energy/Oil & Gas Refining & Marketing/INT",
          "Sectors/Technology/Semiconductors/INTC",
          "Sectors/Healthcare/Medical Instruments & Supplies/ISRG",
          "Sectors/Healthcare/Drug Manufacturers—General/JNJ",
          "Sectors/Financial Services/Banks—Diversified/JPM",
          "Sectors/Consumer Defensive/Beverages—Non-Alcoholic/KO",
          "Sectors/Industrials/Aerospace & Defense/LMT",
          "Sectors/Communication Services/Internet Content & Information/META",
          "Sectors/Industrials/Conglomerates/MMM",
          "Sectors/Technology/Software—Infrastructure/MSFT",
          "Sectors/Consumer Defensive/Beverages—Non-Alcoholic/PEP",
          "Sectors/Healthcare/Drug Manufacturers—General/PFE",
          "Sectors/Real Estate/REIT—Industrial/PLD",
          "Sectors/Energy/Oil & Gas Equipment & Services/SLB",
          "Sectors/Technology/Consumer Electronics/SONY",
          "Sectors/Real Estate/REIT—Retail/SPG",
          "Sectors/Consumer Cyclical/Auto Manufacturers/TSLA",
          "Sectors/Healthcare/Healthcare Plans/UNH",
          "Sectors/Communication Services/Entertainment/WBD",
          "Sectors/Consumer Defensive/Discount Stores/WMT",
          "Sectors/Energy/Oil & Gas Integrated/XOM",
          "Sectors/Industrials/Aerospace & Defense",
          "Sectors/Consumer Cyclical/Auto Manufacturers",
          "Sectors/Financial Services/Banks—Diversified",
          "Sectors/Consumer Defensive/Beverages—Non-Alcoholic",
          "Sectors/Industrials/Conglomerates",
          "Sectors/Technology/Consumer Electronics",
          "Sectors/Consumer Defensive/Discount Stores",
          "Sectors/Healthcare/Drug Manufacturers—General",
          "Sectors/Communication Services/Entertainment",
          "Sectors/Healthcare/Healthcare Plans",
          "Sectors/Financial Services/Insurance—Diversified",
          "Sectors/Communication Services/Internet Content & Information",
          "Sectors/Consumer Cyclical/Internet Retail",
          "Sectors/Healthcare/Medical Instruments & Supplies",
          "Sectors/Energy/Oil & Gas Equipment & Services",
          "Sectors/Energy/Oil & Gas Integrated",
          "Sectors/Energy/Oil & Gas Refining & Marketing",
          "Sectors/Real Estate/REIT—Industrial",
          "Sectors/Real Estate/REIT—Retail",
          "Sectors/Technology/Semiconductors",
          "Sectors/Technology/Software—Application",
          "Sectors/Technology/Software—Infrastructure",
          "Sectors/Communication Services",
          "Sectors/Consumer Cyclical",
          "Sectors/Consumer Defensive",
          "Sectors/Energy",
          "Sectors/Financial Services",
          "Sectors/Healthcare",
          "Sectors/Industrials",
          "Sectors/Real Estate",
          "Sectors/Technology",
          "Sectors"
         ],
         "labels": [
          "AAPL",
          "AIG",
          "AMD",
          "AMZN",
          "BA",
          "BAC",
          "BRK-B",
          "C",
          "CRWD",
          "CVX",
          "DDOG",
          "DIS",
          "GOOG",
          "INT",
          "INTC",
          "ISRG",
          "JNJ",
          "JPM",
          "KO",
          "LMT",
          "META",
          "MMM",
          "MSFT",
          "PEP",
          "PFE",
          "PLD",
          "SLB",
          "SONY",
          "SPG",
          "TSLA",
          "UNH",
          "WBD",
          "WMT",
          "XOM",
          "Aerospace & Defense",
          "Auto Manufacturers",
          "Banks—Diversified",
          "Beverages—Non-Alcoholic",
          "Conglomerates",
          "Consumer Electronics",
          "Discount Stores",
          "Drug Manufacturers—General",
          "Entertainment",
          "Healthcare Plans",
          "Insurance—Diversified",
          "Internet Content & Information",
          "Internet Retail",
          "Medical Instruments & Supplies",
          "Oil & Gas Equipment & Services",
          "Oil & Gas Integrated",
          "Oil & Gas Refining & Marketing",
          "REIT—Industrial",
          "REIT—Retail",
          "Semiconductors",
          "Software—Application",
          "Software—Infrastructure",
          "Communication Services",
          "Consumer Cyclical",
          "Consumer Defensive",
          "Energy",
          "Financial Services",
          "Healthcare",
          "Industrials",
          "Real Estate",
          "Technology",
          "Sectors"
         ],
         "marker": {
          "coloraxis": "coloraxis",
          "colors": [
           0.062473,
           0.051788999999999995,
           0.18406099999999995,
           0.174336,
           0.06933099999999999,
           0.033875,
           0.144203,
           0.047188999999999995,
           0.169455,
           0.051256,
           0.150777,
           0.023308,
           0.060548000000000005,
           0.12318799999999999,
           0.08049300000000001,
           0.20089100000000001,
           0.151427,
           0.048020999999999994,
           0.17114000000000001,
           0.24929099999999998,
           0.038689,
           0.10028000000000001,
           0.008259,
           0.11951699999999998,
           0.09541499999999999,
           0.17289100000000002,
           0.17750700000000003,
           0.091093,
           0.14997,
           -0.028543,
           0.159103,
           0.059122,
           0.081951,
           0.132008,
           0.15241195232143973,
           -0.028543,
           0.044880116442152444,
           0.14090377313474003,
           0.10028000000000001,
           0.07250495411684345,
           0.081951,
           0.12503351276480174,
           0.03187776916856576,
           0.159103,
           0.12560204957372909,
           0.04778249055101613,
           0.174336,
           0.20089100000000001,
           0.17750700000000003,
           0.08672404820397565,
           0.12318799999999999,
           0.17289100000000002,
           0.14997,
           0.15358202971094773,
           0.150777,
           0.04134762728854718,
           0.038189180535309473,
           0.13065449826520567,
           0.11922832646155994,
           0.12423961317297152,
           0.09747407702255045,
           0.15891075973084648,
           0.14414438124531725,
           0.15757606619474765,
           0.07532227169346992,
           0.11334083447694805
          ]
         },
         "name": "",
         "parents": [
          "Sectors/Technology/Consumer Electronics",
          "Sectors/Financial Services/Insurance—Diversified",
          "Sectors/Technology/Semiconductors",
          "Sectors/Consumer Cyclical/Internet Retail",
          "Sectors/Industrials/Aerospace & Defense",
          "Sectors/Financial Services/Banks—Diversified",
          "Sectors/Financial Services/Insurance—Diversified",
          "Sectors/Financial Services/Banks—Diversified",
          "Sectors/Technology/Software—Infrastructure",
          "Sectors/Energy/Oil & Gas Integrated",
          "Sectors/Technology/Software—Application",
          "Sectors/Communication Services/Entertainment",
          "Sectors/Communication Services/Internet Content & Information",
          "Sectors/Energy/Oil & Gas Refining & Marketing",
          "Sectors/Technology/Semiconductors",
          "Sectors/Healthcare/Medical Instruments & Supplies",
          "Sectors/Healthcare/Drug Manufacturers—General",
          "Sectors/Financial Services/Banks—Diversified",
          "Sectors/Consumer Defensive/Beverages—Non-Alcoholic",
          "Sectors/Industrials/Aerospace & Defense",
          "Sectors/Communication Services/Internet Content & Information",
          "Sectors/Industrials/Conglomerates",
          "Sectors/Technology/Software—Infrastructure",
          "Sectors/Consumer Defensive/Beverages—Non-Alcoholic",
          "Sectors/Healthcare/Drug Manufacturers—General",
          "Sectors/Real Estate/REIT—Industrial",
          "Sectors/Energy/Oil & Gas Equipment & Services",
          "Sectors/Technology/Consumer Electronics",
          "Sectors/Real Estate/REIT—Retail",
          "Sectors/Consumer Cyclical/Auto Manufacturers",
          "Sectors/Healthcare/Healthcare Plans",
          "Sectors/Communication Services/Entertainment",
          "Sectors/Consumer Defensive/Discount Stores",
          "Sectors/Energy/Oil & Gas Integrated",
          "Sectors/Industrials",
          "Sectors/Consumer Cyclical",
          "Sectors/Financial Services",
          "Sectors/Consumer Defensive",
          "Sectors/Industrials",
          "Sectors/Technology",
          "Sectors/Consumer Defensive",
          "Sectors/Healthcare",
          "Sectors/Communication Services",
          "Sectors/Healthcare",
          "Sectors/Financial Services",
          "Sectors/Communication Services",
          "Sectors/Consumer Cyclical",
          "Sectors/Healthcare",
          "Sectors/Energy",
          "Sectors/Energy",
          "Sectors/Energy",
          "Sectors/Real Estate",
          "Sectors/Real Estate",
          "Sectors/Technology",
          "Sectors/Technology",
          "Sectors/Technology",
          "Sectors",
          "Sectors",
          "Sectors",
          "Sectors",
          "Sectors",
          "Sectors",
          "Sectors",
          "Sectors",
          "Sectors",
          ""
         ],
         "textposition": "middle center",
         "texttemplate": "%{label}<br>%{customdata[4]}",
         "type": "treemap",
         "values": [
          827.22,
          312.35,
          350.34999999999997,
          486.25,
          1033.8,
          169.25,
          1239.48,
          255.45000000000002,
          310.23,
          723.6,
          213.14999999999998,
          827.84,
          297.84000000000003,
          446.88,
          146.1,
          770.31,
          506.22,
          405.24,
          600.8,
          886.56,
          418.11,
          361.95000000000005,
          1201.1,
          849.4,
          451.1,
          614.0999999999999,
          917.6,
          446.45000000000005,
          1236.5,
          133.42,
          486.72,
          260.4,
          843.24,
          566.75,
          1920.36,
          133.42,
          829.94,
          1450.1999999999998,
          361.95000000000005,
          1273.67,
          843.24,
          957.32,
          1088.24,
          486.72,
          1551.83,
          715.95,
          486.25,
          770.31,
          917.6,
          1290.35,
          446.88,
          614.0999999999999,
          1236.5,
          496.44999999999993,
          213.14999999999998,
          1511.33,
          1804.19,
          619.67,
          2293.44,
          2654.83,
          2381.77,
          2214.35,
          2282.31,
          1850.6,
          3494.6,
          19595.76
         ]
        }
       ],
       "layout": {
        "coloraxis": {
         "cmid": 0,
         "colorbar": {
          "title": {
           "text": "Sentiment Score"
          }
         },
         "colorscale": [
          [
           0,
           "#FF0000"
          ],
          [
           0.5,
           "#000000"
          ],
          [
           1,
           "#39FF14"
          ]
         ]
        },
        "font": {
         "size": 20
        },
        "legend": {
         "tracegroupgap": 0
        },
        "margin": {
         "b": 10,
         "l": 10,
         "r": 10,
         "t": 30
        },
        "template": {
         "data": {
          "bar": [
           {
            "error_x": {
             "color": "#2a3f5f"
            },
            "error_y": {
             "color": "#2a3f5f"
            },
            "marker": {
             "line": {
              "color": "#E5ECF6",
              "width": 0.5
             },
             "pattern": {
              "fillmode": "overlay",
              "size": 10,
              "solidity": 0.2
             }
            },
            "type": "bar"
           }
          ],
          "barpolar": [
           {
            "marker": {
             "line": {
              "color": "#E5ECF6",
              "width": 0.5
             },
             "pattern": {
              "fillmode": "overlay",
              "size": 10,
              "solidity": 0.2
             }
            },
            "type": "barpolar"
           }
          ],
          "carpet": [
           {
            "aaxis": {
             "endlinecolor": "#2a3f5f",
             "gridcolor": "white",
             "linecolor": "white",
             "minorgridcolor": "white",
             "startlinecolor": "#2a3f5f"
            },
            "baxis": {
             "endlinecolor": "#2a3f5f",
             "gridcolor": "white",
             "linecolor": "white",
             "minorgridcolor": "white",
             "startlinecolor": "#2a3f5f"
            },
            "type": "carpet"
           }
          ],
          "choropleth": [
           {
            "colorbar": {
             "outlinewidth": 0,
             "ticks": ""
            },
            "type": "choropleth"
           }
          ],
          "contour": [
           {
            "colorbar": {
             "outlinewidth": 0,
             "ticks": ""
            },
            "colorscale": [
             [
              0,
              "#0d0887"
             ],
             [
              0.1111111111111111,
              "#46039f"
             ],
             [
              0.2222222222222222,
              "#7201a8"
             ],
             [
              0.3333333333333333,
              "#9c179e"
             ],
             [
              0.4444444444444444,
              "#bd3786"
             ],
             [
              0.5555555555555556,
              "#d8576b"
             ],
             [
              0.6666666666666666,
              "#ed7953"
             ],
             [
              0.7777777777777778,
              "#fb9f3a"
             ],
             [
              0.8888888888888888,
              "#fdca26"
             ],
             [
              1,
              "#f0f921"
             ]
            ],
            "type": "contour"
           }
          ],
          "contourcarpet": [
           {
            "colorbar": {
             "outlinewidth": 0,
             "ticks": ""
            },
            "type": "contourcarpet"
           }
          ],
          "heatmap": [
           {
            "colorbar": {
             "outlinewidth": 0,
             "ticks": ""
            },
            "colorscale": [
             [
              0,
              "#0d0887"
             ],
             [
              0.1111111111111111,
              "#46039f"
             ],
             [
              0.2222222222222222,
              "#7201a8"
             ],
             [
              0.3333333333333333,
              "#9c179e"
             ],
             [
              0.4444444444444444,
              "#bd3786"
             ],
             [
              0.5555555555555556,
              "#d8576b"
             ],
             [
              0.6666666666666666,
              "#ed7953"
             ],
             [
              0.7777777777777778,
              "#fb9f3a"
             ],
             [
              0.8888888888888888,
              "#fdca26"
             ],
             [
              1,
              "#f0f921"
             ]
            ],
            "type": "heatmap"
           }
          ],
          "heatmapgl": [
           {
            "colorbar": {
             "outlinewidth": 0,
             "ticks": ""
            },
            "colorscale": [
             [
              0,
              "#0d0887"
             ],
             [
              0.1111111111111111,
              "#46039f"
             ],
             [
              0.2222222222222222,
              "#7201a8"
             ],
             [
              0.3333333333333333,
              "#9c179e"
             ],
             [
              0.4444444444444444,
              "#bd3786"
             ],
             [
              0.5555555555555556,
              "#d8576b"
             ],
             [
              0.6666666666666666,
              "#ed7953"
             ],
             [
              0.7777777777777778,
              "#fb9f3a"
             ],
             [
              0.8888888888888888,
              "#fdca26"
             ],
             [
              1,
              "#f0f921"
             ]
            ],
            "type": "heatmapgl"
           }
          ],
          "histogram": [
           {
            "marker": {
             "pattern": {
              "fillmode": "overlay",
              "size": 10,
              "solidity": 0.2
             }
            },
            "type": "histogram"
           }
          ],
          "histogram2d": [
           {
            "colorbar": {
             "outlinewidth": 0,
             "ticks": ""
            },
            "colorscale": [
             [
              0,
              "#0d0887"
             ],
             [
              0.1111111111111111,
              "#46039f"
             ],
             [
              0.2222222222222222,
              "#7201a8"
             ],
             [
              0.3333333333333333,
              "#9c179e"
             ],
             [
              0.4444444444444444,
              "#bd3786"
             ],
             [
              0.5555555555555556,
              "#d8576b"
             ],
             [
              0.6666666666666666,
              "#ed7953"
             ],
             [
              0.7777777777777778,
              "#fb9f3a"
             ],
             [
              0.8888888888888888,
              "#fdca26"
             ],
             [
              1,
              "#f0f921"
             ]
            ],
            "type": "histogram2d"
           }
          ],
          "histogram2dcontour": [
           {
            "colorbar": {
             "outlinewidth": 0,
             "ticks": ""
            },
            "colorscale": [
             [
              0,
              "#0d0887"
             ],
             [
              0.1111111111111111,
              "#46039f"
             ],
             [
              0.2222222222222222,
              "#7201a8"
             ],
             [
              0.3333333333333333,
              "#9c179e"
             ],
             [
              0.4444444444444444,
              "#bd3786"
             ],
             [
              0.5555555555555556,
              "#d8576b"
             ],
             [
              0.6666666666666666,
              "#ed7953"
             ],
             [
              0.7777777777777778,
              "#fb9f3a"
             ],
             [
              0.8888888888888888,
              "#fdca26"
             ],
             [
              1,
              "#f0f921"
             ]
            ],
            "type": "histogram2dcontour"
           }
          ],
          "mesh3d": [
           {
            "colorbar": {
             "outlinewidth": 0,
             "ticks": ""
            },
            "type": "mesh3d"
           }
          ],
          "parcoords": [
           {
            "line": {
             "colorbar": {
              "outlinewidth": 0,
              "ticks": ""
             }
            },
            "type": "parcoords"
           }
          ],
          "pie": [
           {
            "automargin": true,
            "type": "pie"
           }
          ],
          "scatter": [
           {
            "fillpattern": {
             "fillmode": "overlay",
             "size": 10,
             "solidity": 0.2
            },
            "type": "scatter"
           }
          ],
          "scatter3d": [
           {
            "line": {
             "colorbar": {
              "outlinewidth": 0,
              "ticks": ""
             }
            },
            "marker": {
             "colorbar": {
              "outlinewidth": 0,
              "ticks": ""
             }
            },
            "type": "scatter3d"
           }
          ],
          "scattercarpet": [
           {
            "marker": {
             "colorbar": {
              "outlinewidth": 0,
              "ticks": ""
             }
            },
            "type": "scattercarpet"
           }
          ],
          "scattergeo": [
           {
            "marker": {
             "colorbar": {
              "outlinewidth": 0,
              "ticks": ""
             }
            },
            "type": "scattergeo"
           }
          ],
          "scattergl": [
           {
            "marker": {
             "colorbar": {
              "outlinewidth": 0,
              "ticks": ""
             }
            },
            "type": "scattergl"
           }
          ],
          "scattermapbox": [
           {
            "marker": {
             "colorbar": {
              "outlinewidth": 0,
              "ticks": ""
             }
            },
            "type": "scattermapbox"
           }
          ],
          "scatterpolar": [
           {
            "marker": {
             "colorbar": {
              "outlinewidth": 0,
              "ticks": ""
             }
            },
            "type": "scatterpolar"
           }
          ],
          "scatterpolargl": [
           {
            "marker": {
             "colorbar": {
              "outlinewidth": 0,
              "ticks": ""
             }
            },
            "type": "scatterpolargl"
           }
          ],
          "scatterternary": [
           {
            "marker": {
             "colorbar": {
              "outlinewidth": 0,
              "ticks": ""
             }
            },
            "type": "scatterternary"
           }
          ],
          "surface": [
           {
            "colorbar": {
             "outlinewidth": 0,
             "ticks": ""
            },
            "colorscale": [
             [
              0,
              "#0d0887"
             ],
             [
              0.1111111111111111,
              "#46039f"
             ],
             [
              0.2222222222222222,
              "#7201a8"
             ],
             [
              0.3333333333333333,
              "#9c179e"
             ],
             [
              0.4444444444444444,
              "#bd3786"
             ],
             [
              0.5555555555555556,
              "#d8576b"
             ],
             [
              0.6666666666666666,
              "#ed7953"
             ],
             [
              0.7777777777777778,
              "#fb9f3a"
             ],
             [
              0.8888888888888888,
              "#fdca26"
             ],
             [
              1,
              "#f0f921"
             ]
            ],
            "type": "surface"
           }
          ],
          "table": [
           {
            "cells": {
             "fill": {
              "color": "#EBF0F8"
             },
             "line": {
              "color": "white"
             }
            },
            "header": {
             "fill": {
              "color": "#C8D4E3"
             },
             "line": {
              "color": "white"
             }
            },
            "type": "table"
           }
          ]
         },
         "layout": {
          "annotationdefaults": {
           "arrowcolor": "#2a3f5f",
           "arrowhead": 0,
           "arrowwidth": 1
          },
          "autotypenumbers": "strict",
          "coloraxis": {
           "colorbar": {
            "outlinewidth": 0,
            "ticks": ""
           }
          },
          "colorscale": {
           "diverging": [
            [
             0,
             "#8e0152"
            ],
            [
             0.1,
             "#c51b7d"
            ],
            [
             0.2,
             "#de77ae"
            ],
            [
             0.3,
             "#f1b6da"
            ],
            [
             0.4,
             "#fde0ef"
            ],
            [
             0.5,
             "#f7f7f7"
            ],
            [
             0.6,
             "#e6f5d0"
            ],
            [
             0.7,
             "#b8e186"
            ],
            [
             0.8,
             "#7fbc41"
            ],
            [
             0.9,
             "#4d9221"
            ],
            [
             1,
             "#276419"
            ]
           ],
           "sequential": [
            [
             0,
             "#0d0887"
            ],
            [
             0.1111111111111111,
             "#46039f"
            ],
            [
             0.2222222222222222,
             "#7201a8"
            ],
            [
             0.3333333333333333,
             "#9c179e"
            ],
            [
             0.4444444444444444,
             "#bd3786"
            ],
            [
             0.5555555555555556,
             "#d8576b"
            ],
            [
             0.6666666666666666,
             "#ed7953"
            ],
            [
             0.7777777777777778,
             "#fb9f3a"
            ],
            [
             0.8888888888888888,
             "#fdca26"
            ],
            [
             1,
             "#f0f921"
            ]
           ],
           "sequentialminus": [
            [
             0,
             "#0d0887"
            ],
            [
             0.1111111111111111,
             "#46039f"
            ],
            [
             0.2222222222222222,
             "#7201a8"
            ],
            [
             0.3333333333333333,
             "#9c179e"
            ],
            [
             0.4444444444444444,
             "#bd3786"
            ],
            [
             0.5555555555555556,
             "#d8576b"
            ],
            [
             0.6666666666666666,
             "#ed7953"
            ],
            [
             0.7777777777777778,
             "#fb9f3a"
            ],
            [
             0.8888888888888888,
             "#fdca26"
            ],
            [
             1,
             "#f0f921"
            ]
           ]
          },
          "colorway": [
           "#636efa",
           "#EF553B",
           "#00cc96",
           "#ab63fa",
           "#FFA15A",
           "#19d3f3",
           "#FF6692",
           "#B6E880",
           "#FF97FF",
           "#FECB52"
          ],
          "font": {
           "color": "#2a3f5f"
          },
          "geo": {
           "bgcolor": "white",
           "lakecolor": "white",
           "landcolor": "#E5ECF6",
           "showlakes": true,
           "showland": true,
           "subunitcolor": "white"
          },
          "hoverlabel": {
           "align": "left"
          },
          "hovermode": "closest",
          "mapbox": {
           "style": "light"
          },
          "paper_bgcolor": "white",
          "plot_bgcolor": "#E5ECF6",
          "polar": {
           "angularaxis": {
            "gridcolor": "white",
            "linecolor": "white",
            "ticks": ""
           },
           "bgcolor": "#E5ECF6",
           "radialaxis": {
            "gridcolor": "white",
            "linecolor": "white",
            "ticks": ""
           }
          },
          "scene": {
           "xaxis": {
            "backgroundcolor": "#E5ECF6",
            "gridcolor": "white",
            "gridwidth": 2,
            "linecolor": "white",
            "showbackground": true,
            "ticks": "",
            "zerolinecolor": "white"
           },
           "yaxis": {
            "backgroundcolor": "#E5ECF6",
            "gridcolor": "white",
            "gridwidth": 2,
            "linecolor": "white",
            "showbackground": true,
            "ticks": "",
            "zerolinecolor": "white"
           },
           "zaxis": {
            "backgroundcolor": "#E5ECF6",
            "gridcolor": "white",
            "gridwidth": 2,
            "linecolor": "white",
            "showbackground": true,
            "ticks": "",
            "zerolinecolor": "white"
           }
          },
          "shapedefaults": {
           "line": {
            "color": "#2a3f5f"
           }
          },
          "ternary": {
           "aaxis": {
            "gridcolor": "white",
            "linecolor": "white",
            "ticks": ""
           },
           "baxis": {
            "gridcolor": "white",
            "linecolor": "white",
            "ticks": ""
           },
           "bgcolor": "#E5ECF6",
           "caxis": {
            "gridcolor": "white",
            "linecolor": "white",
            "ticks": ""
           }
          },
          "title": {
           "x": 0.05
          },
          "xaxis": {
           "automargin": true,
           "gridcolor": "white",
           "linecolor": "white",
           "ticks": "",
           "title": {
            "standoff": 15
           },
           "zerolinecolor": "white",
           "zerolinewidth": 2
          },
          "yaxis": {
           "automargin": true,
           "gridcolor": "white",
           "linecolor": "white",
           "ticks": "",
           "title": {
            "standoff": 15
           },
           "zerolinecolor": "white",
           "zerolinewidth": 2
          }
         }
        }
       }
      }
     },
     "metadata": {},
     "output_type": "display_data"
    }
   ],
   "source": [
    "fig = px.treemap(df, path=[px.Constant(\"Sectors\"), 'Sector', 'Industry', 'ticker'], values='Total Stock Value in Portfolio',\n",
    "                  color='Sentiment Score', hover_data=['Price', 'Negative', 'Neutral', 'Positive', 'Sentiment Score'],\n",
    "                  color_continuous_scale=['#FF0000', \"#000000\", '#39FF14'],\n",
    "                  color_continuous_midpoint=0)\n",
    "\n",
    "fig.data[0].customdata = df[['Price', 'Negative', 'Neutral', 'Positive', 'Sentiment Score']].round(3) # round to 3 decimal places\n",
    "fig.data[0].texttemplate = \"%{label}<br>%{customdata[4]}\"\n",
    "\n",
    "fig.update_traces(textposition=\"middle center\")\n",
    "fig.update_layout(margin = dict(t=30, l=10, r=10, b=10), font_size=20)\n",
    "\n",
    "plotly.offline.plot(fig, filename='stock_sentiment.html') # this writes the plot into a html file and opens it\n",
    "fig.show()"
   ]
  },
  {
   "cell_type": "code",
   "execution_count": null,
   "metadata": {},
   "outputs": [],
   "source": []
  }
 ],
 "metadata": {
  "kernelspec": {
   "display_name": "base",
   "language": "python",
   "name": "python3"
  },
  "language_info": {
   "codemirror_mode": {
    "name": "ipython",
    "version": 3
   },
   "file_extension": ".py",
   "mimetype": "text/x-python",
   "name": "python",
   "nbconvert_exporter": "python",
   "pygments_lexer": "ipython3",
   "version": "3.8.8"
  },
  "orig_nbformat": 4,
  "vscode": {
   "interpreter": {
    "hash": "74d4f517835f5391ecaa9b874603d33f8b07b3643e97ecae7701dd9640cfcedd"
   }
  }
 },
 "nbformat": 4,
 "nbformat_minor": 2
}
